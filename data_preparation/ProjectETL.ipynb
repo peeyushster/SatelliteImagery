{
 "cells": [
  {
   "cell_type": "code",
   "execution_count": 1,
   "metadata": {},
   "outputs": [],
   "source": [
    "import json\n",
    "from urllib.request import urlopen\n",
    "import requests\n",
    "\n",
    "import pandas as pd\n",
    "import numpy as np\n",
    "\n",
    "import matplotlib.pyplot as plt\n",
    "%matplotlib inline\n",
    "\n",
    "def column(matrix, i):\n",
    "    return [row[i] for row in matrix]\n",
    "\n",
    "def get_jsonparsed_data(projectId):\n",
    "    response = requests.get(\"https://tasks.hotosm.org/api/v1/project/\" + str(projectId))\n",
    "    return response.json()"
   ]
  },
  {
   "cell_type": "markdown",
   "metadata": {
    "heading_collapsed": true
   },
   "source": [
    "# Extract info from json"
   ]
  },
  {
   "cell_type": "code",
   "execution_count": 2,
   "metadata": {
    "hidden": true
   },
   "outputs": [],
   "source": [
    "def get_jsonparsed_data(projectId):\n",
    "    response = requests.get(\"https://tasks.hotosm.org/api/v1/project/\" + str(projectId))\n",
    "    return response.json()\n",
    "\n",
    "def read_jsonfile_data(fileName):\n",
    "    with open(fileName) as f:\n",
    "        data = json.load(f)\n",
    "    return data    \n",
    "    \n",
    "projects = []\n",
    "project_json = read_jsonfile_data(\"data/project.json\")"
   ]
  },
  {
   "cell_type": "code",
   "execution_count": 3,
   "metadata": {
    "hidden": true
   },
   "outputs": [],
   "source": [
    "result = pd.DataFrame(columns=['ProjectId', 'TaskId', 'TaskStatus', 'Coordinates'])"
   ]
  },
  {
   "cell_type": "code",
   "execution_count": 4,
   "metadata": {
    "hidden": true
   },
   "outputs": [],
   "source": [
    "validated_percent = {}"
   ]
  },
  {
   "cell_type": "code",
   "execution_count": null,
   "metadata": {
    "hidden": true
   },
   "outputs": [],
   "source": [
    "for key,value in enumerate(project_json['mapResults']['features']):\n",
    "    projects.append(value['properties']['projectId'])\n",
    "    \n",
    "for projectId in projects:\n",
    "    val = 0\n",
    "    task_json = get_jsonparsed_data(projectId)\n",
    "    for task in task_json['tasks']['features']:\n",
    "        #result = result.append({'ProjectId' : projectId,\n",
    "        #               'TaskId' : task['properties']['taskId'],\n",
    "        #               'TaskStatus' : task['properties']['taskStatus'],\n",
    "        #               'Coordinates' : task['geometry']['coordinates']}, ignore_index = True)\n",
    "        if task['properties']['taskStatus'] == \"VALIDATED\":\n",
    "            val += 1\n",
    "    validated_percent[projectId] = val / len(task_json['tasks']['features'])  \n",
    "    #"
   ]
  },
  {
   "cell_type": "code",
   "execution_count": 51,
   "metadata": {
    "hidden": true
   },
   "outputs": [],
   "source": [
    "np.set_printoptions(precision=0,suppress=True) \n",
    "final =  [int(k) for k, v in validated_percent.items() if v > 0.90]"
   ]
  },
  {
   "cell_type": "code",
   "execution_count": 52,
   "metadata": {
    "hidden": true
   },
   "outputs": [],
   "source": [
    "final_1 = [int(k) for k, v in validated_percent.items() if v == 1]"
   ]
  },
  {
   "cell_type": "code",
   "execution_count": 53,
   "metadata": {
    "hidden": true
   },
   "outputs": [],
   "source": [
    "# a = np.asarray(final_1)\n",
    "# np.savetxt(\"output/project_100b.csv\", a, delimiter=\",\")"
   ]
  },
  {
   "cell_type": "code",
   "execution_count": 54,
   "metadata": {
    "hidden": true
   },
   "outputs": [],
   "source": [
    "# a = np.asarray(final)\n",
    "# np.savetxt(\"output/project_90b.csv\", a, delimiter=\",\")"
   ]
  },
  {
   "cell_type": "markdown",
   "metadata": {
    "heading_collapsed": true
   },
   "source": [
    "# Coords of projects"
   ]
  },
  {
   "cell_type": "code",
   "execution_count": 23,
   "metadata": {
    "hidden": true
   },
   "outputs": [],
   "source": [
    "# list of # of projects that are 100% validated\n",
    "final_1 = pd.read_csv(\"output/project_100.csv\", header=None, dtype=int)"
   ]
  },
  {
   "cell_type": "code",
   "execution_count": 24,
   "metadata": {
    "hidden": true
   },
   "outputs": [],
   "source": [
    "def coords_of_projects(projects):\n",
    "    coords = []\n",
    "    for i, projectId in enumerate(projects):\n",
    "        if i in [i for i in range(0, len(projects), 50)]:\n",
    "            print(\"Parsed: %0.1f / 100\" % (i / len(projects) * 100))\n",
    "        task_json = get_jsonparsed_data(projectId)\n",
    "        coords.append(task_json['areaOfInterest']['coordinates'][0][0])\n",
    "        \n",
    "    return coords"
   ]
  },
  {
   "cell_type": "code",
   "execution_count": 25,
   "metadata": {
    "hidden": true,
    "scrolled": false
   },
   "outputs": [
    {
     "name": "stdout",
     "output_type": "stream",
     "text": [
      "Parsed: 0.0 / 100\n",
      "Parsed: 25.8 / 100\n",
      "Parsed: 51.5 / 100\n",
      "Parsed: 77.3 / 100\n"
     ]
    }
   ],
   "source": [
    "coords_list = coords_of_projects(final_1[0])"
   ]
  },
  {
   "cell_type": "code",
   "execution_count": 26,
   "metadata": {
    "hidden": true,
    "scrolled": false
   },
   "outputs": [
    {
     "data": {
      "image/png": "[encoded data removed]",
      "text/plain": [
       "<Figure size 432x288 with 1 Axes>"
      ]
     },
     "metadata": {
      "needs_background": "light"
     },
     "output_type": "display_data"
    }
   ],
   "source": [
    "for coords in coords_list:\n",
    "    plt.scatter(column(coords, 0), column(coords, 1))\n",
    "plt.grid()"
   ]
  },
  {
   "cell_type": "code",
   "execution_count": 27,
   "metadata": {
    "hidden": true
   },
   "outputs": [],
   "source": [
    "def bounding_boxes_from_coords(coords_list):\n",
    "    bounding_boxes = []\n",
    "    for coords in coords_list:\n",
    "        x_min, x_max = min(column(coords, 0)), max(column(coords, 0))\n",
    "        y_min, y_max = min(column(coords, 1)), max(column(coords, 1))\n",
    "        # not [xmin, ymin, xmax, ymax]\n",
    "        bounding_boxes.append([x_min, y_min, x_max, y_max])\n",
    "    return bounding_boxes"
   ]
  },
  {
   "cell_type": "code",
   "execution_count": 28,
   "metadata": {
    "hidden": true
   },
   "outputs": [],
   "source": [
    "bounding_boxes_list = bounding_boxes_from_coords(coords_list)"
   ]
  },
  {
   "cell_type": "code",
   "execution_count": 48,
   "metadata": {
    "hidden": true
   },
   "outputs": [
    {
     "data": {
      "text/plain": [
       "<matplotlib.collections.PathCollection at 0x7f8b0efdba20>"
      ]
     },
     "execution_count": 48,
     "metadata": {},
     "output_type": "execute_result"
    },
    {
     "data": {
      "image/png": "[encoded data removed]",
      "text/plain": [
       "<Figure size 432x288 with 1 Axes>"
      ]
     },
     "metadata": {
      "needs_background": "light"
     },
     "output_type": "display_data"
    }
   ],
   "source": [
    "i = 45\n",
    "coords = coords_list[i]\n",
    "bounding_boxes = bounding_boxes_list[i]\n",
    "\n",
    "plt.scatter(column(coords_list[i], 0), column(coords_list[i], 1))\n",
    "plt.scatter([bounding_boxes[0], bounding_boxes[2]], \n",
    "            [bounding_boxes[1], bounding_boxes[3]])"
   ]
  },
  {
   "cell_type": "code",
   "execution_count": 32,
   "metadata": {
    "hidden": true
   },
   "outputs": [],
   "source": [
    "from geopy.geocoders import Nominatim\n",
    "\n",
    "def countries_from_bounding_boxes(bounding_boxes_list):\n",
    "    geolocator = Nominatim()\n",
    "    countries_list = []\n",
    "    for bb in bounding_boxes_list:\n",
    "        location1 = geolocator.reverse([bb[1], bb[0]], language='en')\n",
    "#         location2 = geolocator.reverse(bb[2:4], language='en')\n",
    "        countries_list.append(location1.address.split(',')[-1].lower()[1:])\n",
    "    return countries_list\n"
   ]
  },
  {
   "cell_type": "code",
   "execution_count": 33,
   "metadata": {
    "hidden": true
   },
   "outputs": [],
   "source": [
    "countries_list = countries_from_bounding_boxes(bounding_boxes_list)"
   ]
  },
  {
   "cell_type": "code",
   "execution_count": 37,
   "metadata": {
    "hidden": true
   },
   "outputs": [],
   "source": [
    "project_ids = final_1[0]"
   ]
  },
  {
   "cell_type": "code",
   "execution_count": 38,
   "metadata": {
    "hidden": true
   },
   "outputs": [],
   "source": [
    "data = pd.DataFrame({'id' : project_ids,\n",
    "              'country' : countries_list,\n",
    "              'coord_1': column(bounding_boxes_list, 0),\n",
    "              'coord_2': column(bounding_boxes_list, 1),\n",
    "              'coord_3': column(bounding_boxes_list, 2),\n",
    "              'coord_4': column(bounding_boxes_list, 3)})"
   ]
  },
  {
   "cell_type": "code",
   "execution_count": 40,
   "metadata": {
    "hidden": true
   },
   "outputs": [],
   "source": [
    "# data.to_csv('output/data_100validated.csv', float_format='%.15f')"
   ]
  },
  {
   "cell_type": "markdown",
   "metadata": {},
   "source": [
    "# For label-maker"
   ]
  },
  {
   "cell_type": "code",
   "execution_count": 62,
   "metadata": {},
   "outputs": [],
   "source": [
    "data = pd.read_csv('output/data_100validated.csv')"
   ]
  },
  {
   "cell_type": "code",
   "execution_count": 46,
   "metadata": {},
   "outputs": [],
   "source": [
    "def show_country_and_coords(i):\n",
    "    d = data.iloc[i]\n",
    "    print(d['id'], d['country'], d['coord_1'], d['coord_2'], d['coord_3'], d['coord_4'], sep=', ')"
   ]
  },
  {
   "cell_type": "code",
   "execution_count": null,
   "metadata": {},
   "outputs": [],
   "source": [
    "show_country_and_coords(2)"
   ]
  },
  {
   "cell_type": "markdown",
   "metadata": {},
   "source": [
    "## For Mapping Country Names"
   ]
  },
  {
   "cell_type": "code",
   "execution_count": 84,
   "metadata": {},
   "outputs": [],
   "source": [
    "#Map the right names\n",
    "import csv\n",
    "\n",
    "with open('data/label-maker-country.csv', newline='') as csvfile:\n",
    "    data_label_countries = list(csv.reader(csvfile))\n",
    "\n",
    "    \n",
    "data_osm_countries = list(set(data[:]['country']))\n",
    "    \n",
    "c = {}\n",
    "for a in data_label_countries:\n",
    "    for b in data_osm_countries:\n",
    "        if b in a[0]:\n",
    "            c[b] = a[0]\n",
    "\n",
    "data['label_maker_country'] = data['country'].map(c)\n",
    "data = data.dropna() #this will remove 40 validated projects (we can't determine the countries based on )"
   ]
  },
  {
   "cell_type": "code",
   "execution_count": null,
   "metadata": {},
   "outputs": [],
   "source": [
    "data"
   ]
  },
  {
   "cell_type": "code",
   "execution_count": null,
   "metadata": {},
   "outputs": [],
   "source": [
    "#data.to_csv('output/data_150_projects_with_valid_countries.csv')"
   ]
  },
  {
   "cell_type": "markdown",
   "metadata": {},
   "source": [
    "##  Generate Multiple Configuration"
   ]
  },
  {
   "cell_type": "code",
   "execution_count": null,
   "metadata": {},
   "outputs": [],
   "source": [
    "data = pd.read_csv('output/data_150_projects_with_valid_countries.csv')"
   ]
  },
  {
   "cell_type": "code",
   "execution_count": 97,
   "metadata": {},
   "outputs": [],
   "source": [
    "from string import Template\n",
    "#open the template file\n",
    "filein = open('template/template.txt')\n",
    "src = Template(filein.read())\n",
    "\n",
    "for index, row in data.iterrows():\n",
    "    d = {'country_name': row['label_maker_country'],\n",
    "         'zoom_level': 15, \n",
    "         'project_coordinates':\",\".join([str(row['coord_1']),str(row['coord_2']),str(row['coord_3']),str(row['coord_4'])])}\n",
    "    fileName = 'configurations/config_'+ str(row['id']) + '.json'\n",
    "    \n",
    "    with open(fileName, 'w') as outputFile:\n",
    "        outputFile.write(src.safe_substitute(d))"
   ]
  },
  {
   "cell_type": "code",
   "execution_count": null,
   "metadata": {},
   "outputs": [],
   "source": [
    "from os import listdir\n",
    "from os.path import isfile, join\n",
    "configPath = 'configurations/'\n",
    "dataPath = 'data/'\n",
    "configFiles = [f for f in listdir(configPath) if isfile(join(configPath, f))]\n",
    "\n",
    "counter = 1\n",
    "for file in configFiles:\n",
    "    !label-maker download -c {configPath+file}  -d {dataPath+str(counter)}\n",
    "    !label-maker labels -c {configPath+file} -d {dataPath+str(counter)}\n",
    "    !label-maker images -c {configPath+file} -d {dataPath+str(counter)}\n",
    "    !label-maker package -c {configPath+file} -d {dataPath+str(counter)}\n",
    "    counter = counter + 1"
   ]
  }
 ],
 "metadata": {
  "kernelspec": {
   "display_name": "Python 3",
   "language": "python",
   "name": "python3"
  },
  "language_info": {
   "codemirror_mode": {
    "name": "ipython",
    "version": 3
   },
   "file_extension": ".py",
   "mimetype": "text/x-python",
   "name": "python",
   "nbconvert_exporter": "python",
   "pygments_lexer": "ipython3",
   "version": "3.6.5"
  },
  "toc": {
   "base_numbering": 1,
   "nav_menu": {},
   "number_sections": true,
   "sideBar": true,
   "skip_h1_title": false,
   "title_cell": "Table of Contents",
   "title_sidebar": "Contents",
   "toc_cell": false,
   "toc_position": {},
   "toc_section_display": true,
   "toc_window_display": false
  }
 },
 "nbformat": 4,
 "nbformat_minor": 2
}
