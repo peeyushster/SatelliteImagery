{
 "cells": [
  {
   "cell_type": "code",
   "execution_count": 192,
   "metadata": {},
   "outputs": [],
   "source": [
    "import numpy as np\n",
    "import glob\n",
    "import imageio\n",
    "import os\n",
    "import pandas as pd\n",
    "import matplotlib.pyplot as plt\n",
    "import shutil\n",
    "import math\n",
    "import random\n",
    "\n",
    "%matplotlib inline\n",
    "\n",
    "# os.chdir('DATA_LableMaker')"
   ]
  },
  {
   "cell_type": "markdown",
   "metadata": {},
   "source": [
    "# Finding empty tiles / labels"
   ]
  },
  {
   "cell_type": "code",
   "execution_count": 175,
   "metadata": {},
   "outputs": [],
   "source": [
    "cur_dir = os.getcwd() # current dir path\n",
    "\n",
    "data_dir = os.path.join(cur_dir, 'data1')\n",
    "list_dir = os.listdir(data_dir)"
   ]
  },
  {
   "cell_type": "code",
   "execution_count": 8,
   "metadata": {},
   "outputs": [],
   "source": [
    "# finding empty tiles +\n",
    "# list of all folders in the data folder\n",
    "folderNames = []\n",
    "filesToBeDeleted = []\n",
    "\n",
    "for dirPath in glob.glob(\"data1/*/\"):\n",
    "    folderNames.append(dirPath.split('/')[1])\n",
    "\n",
    "folderNamesToDelete=[]\n",
    "for f in folderNames:\n",
    "    counter=0\n",
    "    emptyImgCounter=0\n",
    "    for image_path in glob.glob('data1/{}/tiles/*.jpg'.format(f)):\n",
    "        try:\n",
    "            temp=imageio.imread(image_path)\n",
    "            if(temp.sum()==0):\n",
    "                filesToBeDeleted.append(image_path)\n",
    "        except:\n",
    "            filesToBeDeleted.append(image_path)\n",
    "            "
   ]
  },
  {
   "cell_type": "code",
   "execution_count": 176,
   "metadata": {},
   "outputs": [],
   "source": [
    "# filesToBeDeleted: list of all empty LABELS in the data1 folder\n",
    "# movel_empty_tile_and_label_to_DELETE: if active, move filesToBeDeleted (labels and tiles) to data1/DELETE\n",
    "\n",
    "folderNames = os.listdir(data_dir)\n",
    "filesToBeDeleted = []\n",
    "\n",
    "try:\n",
    "    os.makedirs(data_dir+'/DELETE')\n",
    "except:\n",
    "    pass\n",
    "\n",
    "def movel_empty_tile_and_label_to_DELETE(image_path, f):\n",
    "    # paths to label and corresponding tile to move\n",
    "    label_to_move = os.path.join(cur_dir, image_path)\n",
    "    tile_to_move = os.path.join(cur_dir, image_path.replace('labels', 'tiles').replace('png', 'jpg'))\n",
    "    # move selected label and tile to data1/DELETE/<zoom_projectID>\n",
    "    try:\n",
    "        os.makedirs(data_dir+'/DELETE/'+f)\n",
    "    except:\n",
    "        pass\n",
    "    dest = os.path.join(data_dir, 'DELETE/'+f)\n",
    "    shutil.move(label_to_move, dest)\n",
    "    shutil.move(tile_to_move, dest)\n",
    "    \n",
    "    \n",
    "\n",
    "for f in folderNames:\n",
    "    for image_path in glob.glob('data1/{}/labels/*.png'.format(f)):\n",
    "        try:\n",
    "            temp=imageio.imread(image_path)\n",
    "            if(temp.sum()==0):\n",
    "                filesToBeDeleted.append(image_path)\n",
    "                movel_empty_tile_and_label_to_DELETE(image_path, f)\n",
    "        except:\n",
    "            filesToBeDeleted.append(image_path)\n",
    "            movel_empty_tile_and_label_to_DELETE(image_path, f)\n",
    "            "
   ]
  },
  {
   "cell_type": "markdown",
   "metadata": {},
   "source": [
    "# Counting images"
   ]
  },
  {
   "cell_type": "code",
   "execution_count": 292,
   "metadata": {},
   "outputs": [],
   "source": [
    "# count all tiles in the folder: folder/<name>/tiles/<image_name>.jpg\n",
    "def count_tiles(folder):\n",
    "    folderNames = []\n",
    "    folderTileCounts = []\n",
    "\n",
    "    for dirPath in glob.glob(folder+\"/*/\"):\n",
    "        folderNames.append(dirPath.split('/')[-2])\n",
    "\n",
    "    for f in folderNames:\n",
    "        projectID, projectZoom = int(f.split('_')[-1]), int(f.split('_')[0])\n",
    "        numImages=0\n",
    "        for image_path in glob.glob(folder+'/{}/tiles/*.jpg'.format(f)):\n",
    "            numImages += 1\n",
    "        folderTileCounts.append([projectID, projectZoom, numImages])\n",
    "\n",
    "    return np.array(folderTileCounts)"
   ]
  },
  {
   "cell_type": "code",
   "execution_count": 290,
   "metadata": {},
   "outputs": [],
   "source": [
    "folderTileCounts = count_tiles('data1')"
   ]
  },
  {
   "cell_type": "code",
   "execution_count": 190,
   "metadata": {},
   "outputs": [],
   "source": [
    "# group by project ID and sort by number of tiles\n",
    "df = pd.DataFrame(tileCountsArr)\n",
    "grouped = df.groupby([0]).sum()\n",
    "grouped_sorted = grouped.sort_values(by=2)\n",
    "\n",
    "df_17 = df[df[1] == 17]\n",
    "df_18 = df[df[1] == 18]"
   ]
  },
  {
   "cell_type": "code",
   "execution_count": 316,
   "metadata": {},
   "outputs": [
    {
     "data": {
      "text/plain": [
       "36595"
      ]
     },
     "execution_count": 316,
     "metadata": {},
     "output_type": "execute_result"
    }
   ],
   "source": [
    "# total number of tiles\n",
    "df.sum()[2]"
   ]
  },
  {
   "cell_type": "code",
   "execution_count": 333,
   "metadata": {},
   "outputs": [
    {
     "data": {
      "text/plain": [
       "array([3505, 3523, 3649, 3685, 3697, 3991, 3992, 3994, 3995, 4048, 4052,\n",
       "       4057, 4058, 4195, 5011, 5021, 5027, 5303, 5370, 5397, 5405])"
      ]
     },
     "execution_count": 333,
     "metadata": {},
     "output_type": "execute_result"
    }
   ],
   "source": [
    "# IDs of all projects we use\n",
    "np.sort(df[0].unique())"
   ]
  },
  {
   "cell_type": "code",
   "execution_count": 318,
   "metadata": {},
   "outputs": [],
   "source": [
    "df_17_sorted = df_17.sort_values(by=2)\n",
    "df_18_sorted = df_18.sort_values(by=2)"
   ]
  },
  {
   "cell_type": "code",
   "execution_count": 319,
   "metadata": {
    "scrolled": true
   },
   "outputs": [
    {
     "data": {
      "image/png": "[encoded data removed]",
      "text/plain": [
       "<Figure size 720x360 with 2 Axes>"
      ]
     },
     "metadata": {
      "needs_background": "light"
     },
     "output_type": "display_data"
    }
   ],
   "source": [
    "# distribution of number of tiles in different projects\n",
    "plt.figure(figsize=(10,5))\n",
    "plt.subplot(1, 2, 1)\n",
    "plt.plot(list(df_17_sorted[2]))\n",
    "plt.grid()\n",
    "plt.subplot(1, 2, 2)\n",
    "plt.plot(list(df_18_sorted[2]))\n",
    "plt.grid()\n",
    "plt.show()"
   ]
  },
  {
   "cell_type": "markdown",
   "metadata": {},
   "source": [
    "# Train/validation/test split"
   ]
  },
  {
   "cell_type": "code",
   "execution_count": 243,
   "metadata": {
    "scrolled": true
   },
   "outputs": [
    {
     "name": "stdout",
     "output_type": "stream",
     "text": [
      "Train: 82.3 %\n",
      "Val: 11.59 %\n",
      "Test: 6.12 %\n"
     ]
    }
   ],
   "source": [
    "# first: selecting entire projects\n",
    "\n",
    "df_val = grouped_sorted.iloc[:-5][::3]\n",
    "ids_val = list(df_val.index)\n",
    "\n",
    "df_test = grouped_sorted.iloc[:-5][1::3]\n",
    "ids_test = list(df_test.index)\n",
    "\n",
    "exclude = grouped_sorted.index.isin(ids_val + ids_test)\n",
    "\n",
    "df_train = grouped_sorted[~exclude]\n",
    "ids_train = list(df_train.index)\n",
    "\n",
    "assert len(ids_val) + len(ids_test) + len(ids_train) == grouped_sorted.index.shape[0], 'Bad split'\n",
    "\n",
    "total = grouped_sorted.sum()[2]\n",
    "print('Train:', round(df_train.sum()[2] / total * 100, 2), '%')\n",
    "print('Val:', round(df_val.sum()[2] / total * 100, 2), '%')\n",
    "print('Test:', round(df_test.sum()[2] / total * 100, 2), '%')\n"
   ]
  },
  {
   "cell_type": "code",
   "execution_count": 251,
   "metadata": {},
   "outputs": [],
   "source": [
    "# moving them to corresponding folders: Train, Validation, Test\n",
    "\n",
    "cur_dir = os.getcwd() # current dir path\n",
    "\n",
    "data_dir = os.path.join(cur_dir, 'data1')\n",
    "list_dir = os.listdir(data_dir)\n",
    "\n",
    "try:\n",
    "    os.makedirs(cur_dir+'/data1_split')\n",
    "    os.makedirs(cur_dir+'/data1_split/Train')\n",
    "    os.makedirs(cur_dir+'/data1_split/Validation')\n",
    "    os.makedirs(cur_dir+'/data1_split/Test')\n",
    "    os.makedirs(cur_dir+'/data1_split/Validation_Randomized')\n",
    "    os.makedirs(cur_dir+'/data1_split/Test_Randomized')\n",
    "except:\n",
    "    pass\n",
    "\n",
    "dest_train = os.path.join(cur_dir, 'data1_split/Train') \n",
    "dest_val = os.path.join(cur_dir, 'data1_split/Validation') \n",
    "dest_test = os.path.join(cur_dir, 'data1_split/Test') \n",
    "\n",
    "for sub_dir in list_dir:\n",
    "    ID = int(sub_dir.split('_')[-1])\n",
    "    if ID in ids_train:\n",
    "        dir_to_move = os.path.join(data_dir, sub_dir)\n",
    "        shutil.move(dir_to_move, dest_train)\n",
    "    elif ID in ids_val:\n",
    "        dir_to_move = os.path.join(data_dir, sub_dir)\n",
    "        shutil.move(dir_to_move, dest_val)\n",
    "    elif ID in ids_test:\n",
    "        dir_to_move = os.path.join(data_dir, sub_dir)\n",
    "        shutil.move(dir_to_move, dest_test)\n",
    "        "
   ]
  },
  {
   "cell_type": "code",
   "execution_count": 254,
   "metadata": {},
   "outputs": [],
   "source": [
    "def generate_random_samples(source, destination):\n",
    "    for project in os.listdir(source):\n",
    "        dest_project = source+'/'+project\n",
    "\n",
    "        labels = os.listdir(dest_project+'/labels')\n",
    "        n = math.ceil(len(labels) / 10)\n",
    "        random_labels = random.sample(labels, n)\n",
    "        try:\n",
    "            os.makedirs(destination+'/'+project+'/tiles')\n",
    "            os.makedirs(destination+'/'+project+'/labels')\n",
    "        except:\n",
    "            pass\n",
    "        for label in random_labels:\n",
    "            shutil.move(dest_project+'/labels'+'/'+label, destination+'/'+project+'/labels')\n",
    "            shutil.move(dest_project+'/tiles'+'/'+label.replace(\".png\",\".jpg\"), destination+'/'+project+'/tiles')"
   ]
  },
  {
   "cell_type": "code",
   "execution_count": 255,
   "metadata": {},
   "outputs": [],
   "source": [
    "dest_val_random = os.path.join(cur_dir, 'data1_split/Validation_Randomized') \n",
    "dest_test_random = os.path.join(cur_dir, 'data1_split/Test_Randomized')\n",
    "\n",
    "try:\n",
    "    os.makedirs(dest_val_random+'/labels')\n",
    "    os.makedirs(dest_val_random+'/tiles')\n",
    "\n",
    "    os.makedirs(dest_test_random+'/labels')\n",
    "    os.makedirs(dest_test_random+'/tiles')\n",
    "except:\n",
    "    pass\n",
    "\n",
    "generate_random_samples(dest_train,dest_test_random)\n",
    "generate_random_samples(dest_train,dest_val_random)"
   ]
  },
  {
   "cell_type": "code",
   "execution_count": 312,
   "metadata": {
    "scrolled": true
   },
   "outputs": [
    {
     "name": "stdout",
     "output_type": "stream",
     "text": [
      "Number of all tiles: 36595\n",
      "Train: 67% (24380)\n",
      "Validation: 19% (6959)\n",
      "Test: 14% (5256)\n"
     ]
    }
   ],
   "source": [
    "# count tiles\n",
    "n = [count_tiles('data1_split/Train'),\n",
    "    count_tiles('data1_split/Validation'),\n",
    "    count_tiles('data1_split/Test'),\n",
    "    count_tiles('data1_split/Validation_Randomized'),\n",
    "    count_tiles('data1_split/Test_Randomized')\n",
    "    ]\n",
    "\n",
    "n = [i[:,-1].sum() for i in n]\n",
    "print('Number of all tiles:',sum(n))\n",
    "print('Train: %i%%' % round(n[0] / sum(n) * 100), '(%i)' % n[0])\n",
    "print('Validation: %i%%' % round((n[1] + n[3]) / sum(n) * 100), '(%i)' % (n[1] + n[3]))\n",
    "print('Test: %i%%' % round((n[2] + n[4]) / sum(n) * 100), '(%i)' % (n[2] + n[4]))"
   ]
  },
  {
   "cell_type": "code",
   "execution_count": 306,
   "metadata": {
    "scrolled": false
   },
   "outputs": [
    {
     "data": {
      "text/plain": [
       "36595"
      ]
     },
     "execution_count": 306,
     "metadata": {},
     "output_type": "execute_result"
    }
   ],
   "source": [
    "# total number of tiles (check)\n",
    "sum([i[:,-1].sum() for i in n])"
   ]
  },
  {
   "cell_type": "markdown",
   "metadata": {},
   "source": [
    "# Distribution of labels"
   ]
  },
  {
   "cell_type": "code",
   "execution_count": null,
   "metadata": {},
   "outputs": [],
   "source": [
    "folderNames = []\n",
    "filesToBeDeleted = []\n",
    "\n",
    "for dirPath in glob.glob(\"data1/*/\"):\n",
    "    folderNames.append(dirPath.split('/')[1])\n",
    "\n",
    "folderNamesToDelete=[]\n",
    "for f in folderNames:\n",
    "    counter=0\n",
    "    emptyImgCounter=0\n",
    "    for image_path in glob.glob('data1/{}/labels/*.png'.format(f)):\n",
    "        try:\n",
    "            temp=imageio.imread(image_path)\n",
    "            if(temp.sum()==0):\n",
    "                filesToBeDeleted.append(image_path)\n",
    "        except:\n",
    "            filesToBeDeleted.append(image_path)\n",
    "           "
   ]
  },
  {
   "cell_type": "code",
   "execution_count": 356,
   "metadata": {},
   "outputs": [
    {
     "name": "stdout",
     "output_type": "stream",
     "text": [
      "2086138961 17139895 295011064\n"
     ]
    }
   ],
   "source": [
    "import numpy as np\n",
    "\n",
    "\n",
    "image_path = 'data1/17_3697/labels/77744-68798-17.png'\n",
    "img = np.array(imageio.imread(image_path))\n",
    "\n",
    "folderNames = []\n",
    "\n",
    "\n",
    "for dirPath in glob.glob(\"data1/*/\"):\n",
    "    folderNames.append(dirPath.split('/')[1])\n",
    "\n",
    "    \n",
    "background_pix = 0\n",
    "highway_pix = 0\n",
    "building_pix = 0\n",
    "\n",
    "for f in folderNames:\n",
    "    for image_path in glob.glob('data1/{}/labels/*.png'.format(f)):\n",
    "        try:\n",
    "            img = np.array(imageio.imread(image_path))\n",
    "            for x in img.reshape(-1,3):\n",
    "                pix_sum = np.sum([x[0],x[1],x[2]])\n",
    "                if(pix_sum == 0):\n",
    "                    background_pix += 1\n",
    "                if(pix_sum == 425):\n",
    "                    highway_pix += 1\n",
    "                if(pix_sum == 187):\n",
    "                    building_pix += 1\n",
    "        except:\n",
    "            pass\n",
    "        \n",
    "print(background_pix, highway_pix, building_pix)"
   ]
  },
  {
   "cell_type": "code",
   "execution_count": null,
   "metadata": {},
   "outputs": [],
   "source": []
  }
 ],
 "metadata": {
  "kernelspec": {
   "display_name": "Python 3",
   "language": "python",
   "name": "python3"
  },
  "language_info": {
   "codemirror_mode": {
    "name": "ipython",
    "version": 3
   },
   "file_extension": ".py",
   "mimetype": "text/x-python",
   "name": "python",
   "nbconvert_exporter": "python",
   "pygments_lexer": "ipython3",
   "version": "3.7.1"
  },
  "toc": {
   "base_numbering": 1,
   "nav_menu": {},
   "number_sections": true,
   "sideBar": true,
   "skip_h1_title": false,
   "title_cell": "Table of Contents",
   "title_sidebar": "Contents",
   "toc_cell": false,
   "toc_position": {},
   "toc_section_display": true,
   "toc_window_display": false
  }
 },
 "nbformat": 4,
 "nbformat_minor": 2
}
